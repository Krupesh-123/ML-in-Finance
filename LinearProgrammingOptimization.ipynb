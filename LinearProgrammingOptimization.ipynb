{
  "nbformat": 4,
  "nbformat_minor": 0,
  "metadata": {
    "colab": {
      "provenance": []
    },
    "kernelspec": {
      "name": "python3",
      "display_name": "Python 3"
    },
    "language_info": {
      "name": "python"
    }
  },
  "cells": [
    {
      "cell_type": "markdown",
      "source": [
        "**Optimisation and Machine Learning in Finance – Software**\n",
        "\n",
        "**Part IIA:**\n",
        "The investor has £20,000 to invest and has numerous choices:\n",
        "\n",
        "- **Purchase Stock XYZ**: A single share of Stock XYZ is currently priced at £20. The investor could buy 1,000 shares of Stock XYZ with £20,000 (20,000/20 = 1,000 shares).\n",
        "\n",
        "- **Purchase a European call option**: A European call option offers the holder the right, but not the duty, to buy 100 shares of Stock XYZ six months from today at a price of £15 per share. This call option costs £1,000 to purchase. If the price of Stock XYZ rises over £15 in the next six months, the call option holder can exercise their right to acquire the shares at £15 and sell them at the higher market price, earning a profit. If the price of Stock XYZ remains below £15, the call option holder's right to acquire the shares is forfeited, and the option expires worthless).\n",
        "\n",
        "- **Sell call options**: Alternatively, the investor could sell to other investors European call options with the same characteristics as indicated above. As a result, the investor would receive a premium payment from the option buyers. If the price of Stock XYZ remains below £15, the options will expire worthless, and the premium paid will be retained by the investor. If the price of Stock XYZ rises over £15, the investors who acquired the call options will exercise their right to buy the shares at that price, while the investor who sold the options will be forced to sell the shares at that price, potentially losing money.\n",
        "\n",
        "- **Purchase a risk-free bond**: For £90, the investor can purchase a 6-month risk-free zero-coupon bond with a face value of £100. The investor would receive the entire face value of £100 at the end of six months.\n",
        "\n",
        "The investor has agreed to spend a maximum of 50 contracts in call options. In six months, the investor considers three possible outcomes for the price of Stock XYZ: no change, an increase to £40, or a decline to £12. The investor believes that the likelihood of each of these eventualities is equal.\n",
        "\n",
        "\n",
        "\n"
      ],
      "metadata": {
        "id": "U13HnsBGT6Bx"
      }
    },
    {
      "cell_type": "markdown",
      "source": [
        "Now I create a linear programme and solve it to get the stock, bond, and option portfolio that maximises predicted profit.\n"
      ],
      "metadata": {
        "id": "lzVNEaHBU90D"
      }
    },
    {
      "cell_type": "markdown",
      "source": [
        "First I define the **decision variables**.\n",
        "\n",
        "P = number of bonds purchased\n",
        "\n",
        "Q = number of stocks purchased\n",
        "\n",
        "R = number of call options purchased (if R>0 ) and sold (if R < 0)\n",
        "\n",
        "The **expected profits** (per unit of investment ) are computed as follows.\n",
        "\n",
        "Bonds = 10\n",
        "\n",
        "Stock = 1/3*(20+0-8) = 4 \n",
        "\n",
        "(Profit of 20 when stock goes to 40£, 0 when stocks price remains same at 20£ and -8 when stock falls to 12 pounds)\n",
        "\n",
        "Call option = 1/3*(1500-500-1000) = 0\n",
        "\n",
        "(Profit of 1500 when stock goes to 40£, - 500 when stocks price remains same at 20£ and -1000 when stock falls to 12 pounds)\n",
        "\n",
        "Therefore, we get the following linear programming formulation.\n",
        "\n",
        "**Objective Function**:\n",
        "\n",
        "    max 10P + 4Q\n",
        "**Subject to**\n",
        "\n",
        "    90P +20Q+ 1000R <=2000 (Budget constraint)\n",
        "\n",
        "                  R <= 50  (Limit on the quantity of call options bought) \n",
        "\n",
        "                  R >= 50  (Limit on the volume of sold call options) \n",
        "\n",
        "    P>=0, Q>=0             (Non-negativity)\n",
        "\n",
        "\n"
      ],
      "metadata": {
        "id": "SsG4Bj-xVvJN"
      }
    },
    {
      "cell_type": "markdown",
      "source": [
        "Gurobipy is being used as a solver for solving linear program here. We install the gurobipy package using the below command."
      ],
      "metadata": {
        "id": "te7fPB1rVBQN"
      }
    },
    {
      "cell_type": "code",
      "source": [
        "%pip install -i https://pypi.gurobi.com gurobipy"
      ],
      "metadata": {
        "id": "SSZk8mTCT6rX",
        "colab": {
          "base_uri": "https://localhost:8080/"
        },
        "outputId": "0d014e65-9c4a-419a-834b-1836e361d750"
      },
      "execution_count": 1,
      "outputs": [
        {
          "output_type": "stream",
          "name": "stdout",
          "text": [
            "Looking in indexes: https://pypi.gurobi.com, https://us-python.pkg.dev/colab-wheels/public/simple/\n",
            "Collecting gurobipy\n",
            "  Downloading gurobipy-10.0.1-cp39-cp39-manylinux2014_x86_64.whl (12.8 MB)\n",
            "\u001b[2K     \u001b[90m━━━━━━━━━━━━━━━━━━━━━━━━━━━━━━━━━━━━━━━━\u001b[0m \u001b[32m12.8/12.8 MB\u001b[0m \u001b[31m39.7 MB/s\u001b[0m eta \u001b[36m0:00:00\u001b[0m\n",
            "\u001b[?25hInstalling collected packages: gurobipy\n",
            "Successfully installed gurobipy-10.0.1\n"
          ]
        }
      ]
    },
    {
      "cell_type": "markdown",
      "source": [
        "Below is the code for getting the optimal solution using gurobipy\n",
        "\n",
        "**CODE :**\n",
        "\n",
        "The code is a Python implementation of an optimisation issue utilising the Gurobipy package. It seeks to determine the best allocation of cash to maximise profit within specified limits.\n",
        "\n",
        "P, Q, and R are the decision variables, which reflect the number of bonds, stocks, and call options purchased or sold, respectively.\n",
        "\n",
        "The aim function is set to maximise profit, which is calculated as 10 times the number of bonds bought + 4 times the number of stocks bought.\n",
        "\n",
        "A budget constraint has been placed, limiting the total cost of the investment to £20,000. We also ensure that the bonds and stocks quantity remain positive, non-negativity requirements are imposed.\n",
        "\n",
        "The Gurobi solver is used to determine the optimal solution that maximises profit while taking into account the limitations. The best solution is printed, including the quantity of bonds, stocks, and call options to buy or sell in order to maximise profit.\n",
        "\n",
        "\n"
      ],
      "metadata": {
        "id": "fN8FbnT0cUAz"
      }
    },
    {
      "cell_type": "code",
      "source": [
        "import gurobipy as grbpy\n",
        "\n",
        "# Create a new model\n",
        "grbpyModel = grbpy.Model()\n",
        "\n",
        "# Declare the decision variables for objective function\n",
        "P = grbpyModel.addVar(name=\"P\")\n",
        "Q = grbpyModel.addVar(name=\"Q\")\n",
        "R = grbpyModel.addVar(lb=-50, ub=50, name=\"R\")\n",
        "\n",
        "# Set objective function using the variables declared above\n",
        "grbpyModel.setObjective(10*P + 4*Q, sense=grbpy.GRB.MAXIMIZE)\n",
        "\n",
        "# Imposing budget restriction of 20000\n",
        "grbpyModel.addConstr(90*P + 20*Q + 1000*R <= 20000)\n",
        "\n",
        "# create nonnegativity restrictions\n",
        "grbpyModel.addConstr(P >= 0)\n",
        "grbpyModel.addConstr(Q >= 0)\n",
        "\n",
        "# Run the optimization problem\n",
        "grbpyModel.optimize()\n",
        "\n",
        "# Print the optimal solution\n",
        "print(\"Optimal solution:\")\n",
        "print(\"Bonds =\", P.x)\n",
        "print(\"Stocks =\", Q.x)\n",
        "print(\"Call option =\", R.x)\n",
        "print(\"Profit from the optimal allocation is =\",grbpyModel.objVal)"
      ],
      "metadata": {
        "colab": {
          "base_uri": "https://localhost:8080/"
        },
        "id": "WIaQeASrTZx6",
        "outputId": "7446dc7b-13f0-4239-cdb6-42409a68e163"
      },
      "execution_count": 2,
      "outputs": [
        {
          "output_type": "stream",
          "name": "stdout",
          "text": [
            "Restricted license - for non-production use only - expires 2024-10-28\n",
            "Gurobi Optimizer version 10.0.1 build v10.0.1rc0 (linux64)\n",
            "\n",
            "CPU model: Intel(R) Xeon(R) CPU @ 2.20GHz, instruction set [SSE2|AVX|AVX2]\n",
            "Thread count: 1 physical cores, 2 logical processors, using up to 2 threads\n",
            "\n",
            "Optimize a model with 3 rows, 3 columns and 5 nonzeros\n",
            "Model fingerprint: 0x5ec08d17\n",
            "Coefficient statistics:\n",
            "  Matrix range     [1e+00, 1e+03]\n",
            "  Objective range  [4e+00, 1e+01]\n",
            "  Bounds range     [5e+01, 5e+01]\n",
            "  RHS range        [2e+04, 2e+04]\n",
            "Presolve removed 3 rows and 3 columns\n",
            "Presolve time: 0.01s\n",
            "Presolve: All rows and columns removed\n",
            "Iteration    Objective       Primal Inf.    Dual Inf.      Time\n",
            "       0    1.4000000e+04   0.000000e+00   0.000000e+00      0s\n",
            "\n",
            "Solved in 0 iterations and 0.02 seconds (0.00 work units)\n",
            "Optimal objective  1.400000000e+04\n",
            "Optimal solution:\n",
            "Bonds = 0.0\n",
            "Stocks = 3500.0\n",
            "Call option = -50.0\n",
            "Profit from the optimal allocation is = 14000.0\n"
          ]
        }
      ]
    },
    {
      "cell_type": "markdown",
      "source": [
        "Using gurobipy we get the optimal solution that provides the maximum return on investment with the following portfolio : \n",
        "\n",
        "Bonds  = 0 units\n",
        "\n",
        "Stocks = 3500 units\n",
        "\n",
        "Call options = -50 units (sold)\n",
        "\n",
        "With above portfolio allocation of buying 3500 stocks and selling 50 units of call options we get the maximum profit of 14000£ in best case scenario.\n",
        "\n",
        "\n",
        "The profit, however, is not always a positive number in the case of this portfolio. In particular, if the price of stock XYZ falls to 40 pounds, there will be a loss of 5000 pounds. \n"
      ],
      "metadata": {
        "id": "cUBaFWFVc1Ho"
      }
    },
    {
      "cell_type": "markdown",
      "source": [
        "Now, if the investor wishes to make at least 2000 pounds profit under any one of the above three possibilities for the price of XYZ in six months. Our next step is to create and solve a linear programme that will maximise the investor's anticipated profit under this new restriction.\n",
        "\n",
        "\n",
        "\n",
        "\n",
        "Three additional variables are added to the equation in order to solve this.\n",
        "Where in we declare a constriant that in each scenario we expect a minimum profit of 2000 pounds.\n",
        "\n",
        "\n",
        "C1= profit in scenario 1 where stocks price remains at same price\n",
        "\n",
        "C2= profit in scenario 2 where stocks price goes to 40£\n",
        "\n",
        "C3= profit in scenario 3 where stocks price falls to 12£\n",
        "\n",
        "The new formulation is as follows:\n",
        "\n",
        "**Objective Function**:\n",
        "\n",
        "    max 1/3(C1 +C2 +C3) \n",
        "\n",
        "**Subject to**\n",
        "\n",
        "    90P + 20Q + 1000R <=20000\n",
        "    10P + 20Q + 1500R = C1\n",
        "    10P       - 500R  = C2\n",
        "    10P - 8Q  - 1000R = C3 \n",
        "    C1                >=2000\n",
        "    C2                >=2000\n",
        "    C3                >=2000\n",
        "                     R <=50\n",
        "                     R >=-50\n",
        "    P>=0, S>=0"
      ],
      "metadata": {
        "id": "OI3UOFqDd6Ii"
      }
    },
    {
      "cell_type": "markdown",
      "source": [
        "Below is the code for getting the optimal solution considering new additional constraints"
      ],
      "metadata": {
        "id": "xKuzHtvyUpKR"
      }
    },
    {
      "cell_type": "markdown",
      "source": [
        "**CODE :**\n",
        "The model is intended to assist an investor in allocating funds among bonds, equities, and call options in order to maximise predicted profit while keeping various limitations in mind.\n",
        "\n",
        "The decision variables, which include the number of bonds (P), stocks (Q), and call options (R) that the investor will buy or sell, are declared at the start of the code. Furthermore, three more decision variables (C1, C2, C3) are reported to reflect the profit in each of the three probable stock price situations after six months.\n",
        "\n",
        "The declared decision variables are used to define the objective function. The goal is to maximise the projected profit, which is the average of the profits in the three alternative situations (C1, C2, C3), with each scenario being weighted equally (thus the 1/3 factor).\n",
        "\n",
        "The budget limit is set to ensure that the overall cost of bonds, equities, and call options does not exceed the available cash of the investor.\n",
        "\n",
        "Profit constraints are applied to ensure that profits are calculated accurately in each of the three scenarios depending on the choice variables. These restrictions take the form of linear equations that link the decision variables to the profits in each scenario.\n",
        "\n",
        "\n",
        "The profit margins are calculated so that the investor makes at least £2,000 profit in each of the three situations. This is an additional restraint imposed by the investor to assure a minimum degree of profitability.\n",
        "\n",
        "Finally, non-negativity constraints for bonds and stocks are specified, which means that the investor cannot purchase a negative number of bonds or stocks. To limit the quantity of options that can be bought or sold, a similar constraint is applied for call options. The number of call choices is restricted to a maximum of 50 and a minimum of -50.\n",
        "\n",
        "\n",
        "\n"
      ],
      "metadata": {
        "id": "vWHtKBdAIywA"
      }
    },
    {
      "cell_type": "code",
      "source": [
        "import gurobipy as grbpy\n",
        "\n",
        "# Create a new model\n",
        "grbpyModel = grbpy.Model()\n",
        "\n",
        "# Declare the decision variables for objective function\n",
        "P = grbpyModel.addVar(name=\"P\")\n",
        "Q = grbpyModel.addVar(name=\"Q\")\n",
        "R = grbpyModel.addVar(lb=-50, ub=50, name=\"R\")\n",
        "C1 = grbpyModel.addVar(name=\"C1\")\n",
        "C2 = grbpyModel.addVar(name=\"C2\")\n",
        "C3 = grbpyModel.addVar(name=\"C3\")\n",
        "\n",
        "# Set objective function using the variables declared above\n",
        "grbpyModel.setObjective(1/3 * (C1 + C2 + C3), sense=grbpy.GRB.MAXIMIZE)\n",
        "\n",
        "# Imposing budget restrictions of 20000\n",
        "grbpyModel.addConstr(90*P + 20*Q + 1000*R <= 20000)\n",
        "\n",
        "# Set profit constraints for each of the scenario\n",
        "grbpyModel.addConstr(10*P + 20*Q + 1500*R == C1)\n",
        "grbpyModel.addConstr(10*P - 500*R == C2)\n",
        "grbpyModel.addConstr(10*P - 8*Q - 1000*R == C3)\n",
        "\n",
        "# Set minimum profit of 2000 constraint for each of the scenario\n",
        "grbpyModel.addConstr(C1 >= 2000)\n",
        "grbpyModel.addConstr(C2 >= 2000)\n",
        "grbpyModel.addConstr(C3 >= 2000)\n",
        "\n",
        "# Setting nonnegativity constraints for bonds and stocks\n",
        "grbpyModel.addConstr(P >= 0)\n",
        "grbpyModel.addConstr(Q >= 0)\n",
        "\n",
        "# Setting call options constraints\n",
        "grbpyModel.addConstr(R <= 50)\n",
        "grbpyModel.addConstr(R >= -50)\n",
        "\n",
        "# Run the optimization problem\n",
        "grbpyModel.optimize()\n",
        "\n",
        "# Print the optimal solution\n",
        "print(\"Optimal solution:\")\n",
        "print(\"Bonds =\", P.x)\n",
        "print(\"Stocks =\", Q.x)\n",
        "print(\"Call Option =\", R.x)\n",
        "print(\"Profit from the optimal allocation is =\", grbpyModel.objVal)"
      ],
      "metadata": {
        "colab": {
          "base_uri": "https://localhost:8080/"
        },
        "id": "MtbmJ9wagulh",
        "outputId": "3d0f39d7-fefa-4113-ab92-924c6f713837"
      },
      "execution_count": 3,
      "outputs": [
        {
          "output_type": "stream",
          "name": "stdout",
          "text": [
            "Gurobi Optimizer version 10.0.1 build v10.0.1rc0 (linux64)\n",
            "\n",
            "CPU model: Intel(R) Xeon(R) CPU @ 2.20GHz, instruction set [SSE2|AVX|AVX2]\n",
            "Thread count: 1 physical cores, 2 logical processors, using up to 2 threads\n",
            "\n",
            "Optimize a model with 11 rows, 6 columns and 21 nonzeros\n",
            "Model fingerprint: 0xbcb1f5b4\n",
            "Coefficient statistics:\n",
            "  Matrix range     [1e+00, 2e+03]\n",
            "  Objective range  [3e-01, 3e-01]\n",
            "  Bounds range     [5e+01, 5e+01]\n",
            "  RHS range        [5e+01, 2e+04]\n",
            "Presolve removed 7 rows and 0 columns\n",
            "Presolve time: 0.03s\n",
            "Presolved: 4 rows, 6 columns, 14 nonzeros\n",
            "\n",
            "Iteration    Objective       Primal Inf.    Dual Inf.      Time\n",
            "       0    6.6177223e+04   3.601495e+03   0.000000e+00      0s\n",
            "       4    1.1200000e+04   0.000000e+00   0.000000e+00      0s\n",
            "\n",
            "Solved in 4 iterations and 0.05 seconds (0.00 work units)\n",
            "Optimal objective  1.120000000e+04\n",
            "Optimal solution:\n",
            "Bonds = 0.0\n",
            "Stocks = 2800.0\n",
            "Call Option = -36.0\n",
            "Profit from the optimal allocation is = 11200.0\n"
          ]
        }
      ]
    },
    {
      "cell_type": "markdown",
      "source": [
        "The optimal solution is \n",
        "\n",
        "Bonds = 0 units\n",
        "\n",
        "Stocks = 2800 units\n",
        "\n",
        "Call options = -36 units (sold) \n",
        "\n",
        "The best course of action is to purchase 2800 shares of XYZ and sell 36 call options, yielding a profit of 31200 pounds. As a result, the profit is anticipated to be 11,200 pounds (31,200 -20,000). \n",
        "\n",
        "\n",
        "\n"
      ],
      "metadata": {
        "id": "84WPG1WVg256"
      }
    }
  ]
}